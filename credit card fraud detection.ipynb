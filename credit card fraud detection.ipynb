{
 "cells": [
  {
   "cell_type": "code",
   "execution_count": 2,
   "id": "337c582d-1a2d-47ee-bd1c-7298982a81d3",
   "metadata": {},
   "outputs": [],
   "source": [
    "import pandas as pd\n",
    "import numpy as np \n",
    "import matplotlib.pyplot as plt\n",
    "import seaborn as sns\n",
    "%matplotlib inline"
   ]
  },
  {
   "cell_type": "code",
   "execution_count": 3,
   "id": "5b4e1dc4-e9f0-4ff9-bc70-32d055c06ac8",
   "metadata": {},
   "outputs": [],
   "source": [
    "df=pd.read_csv('creditcard.csv')"
   ]
  },
  {
   "cell_type": "code",
   "execution_count": 4,
   "id": "f638c1f0-a901-403d-8d14-ffe67361f832",
   "metadata": {},
   "outputs": [
    {
     "data": {
      "text/html": [
       "<div>\n",
       "<style scoped>\n",
       "    .dataframe tbody tr th:only-of-type {\n",
       "        vertical-align: middle;\n",
       "    }\n",
       "\n",
       "    .dataframe tbody tr th {\n",
       "        vertical-align: top;\n",
       "    }\n",
       "\n",
       "    .dataframe thead th {\n",
       "        text-align: right;\n",
       "    }\n",
       "</style>\n",
       "<table border=\"1\" class=\"dataframe\">\n",
       "  <thead>\n",
       "    <tr style=\"text-align: right;\">\n",
       "      <th></th>\n",
       "      <th>Time</th>\n",
       "      <th>V1</th>\n",
       "      <th>V2</th>\n",
       "      <th>V3</th>\n",
       "      <th>V4</th>\n",
       "      <th>V5</th>\n",
       "      <th>V6</th>\n",
       "      <th>V7</th>\n",
       "      <th>V8</th>\n",
       "      <th>V9</th>\n",
       "      <th>...</th>\n",
       "      <th>V21</th>\n",
       "      <th>V22</th>\n",
       "      <th>V23</th>\n",
       "      <th>V24</th>\n",
       "      <th>V25</th>\n",
       "      <th>V26</th>\n",
       "      <th>V27</th>\n",
       "      <th>V28</th>\n",
       "      <th>Amount</th>\n",
       "      <th>Class</th>\n",
       "    </tr>\n",
       "  </thead>\n",
       "  <tbody>\n",
       "    <tr>\n",
       "      <th>0</th>\n",
       "      <td>0.0</td>\n",
       "      <td>-1.359807</td>\n",
       "      <td>-0.072781</td>\n",
       "      <td>2.536347</td>\n",
       "      <td>1.378155</td>\n",
       "      <td>-0.338321</td>\n",
       "      <td>0.462388</td>\n",
       "      <td>0.239599</td>\n",
       "      <td>0.098698</td>\n",
       "      <td>0.363787</td>\n",
       "      <td>...</td>\n",
       "      <td>-0.018307</td>\n",
       "      <td>0.277838</td>\n",
       "      <td>-0.110474</td>\n",
       "      <td>0.066928</td>\n",
       "      <td>0.128539</td>\n",
       "      <td>-0.189115</td>\n",
       "      <td>0.133558</td>\n",
       "      <td>-0.021053</td>\n",
       "      <td>149.62</td>\n",
       "      <td>0</td>\n",
       "    </tr>\n",
       "    <tr>\n",
       "      <th>1</th>\n",
       "      <td>0.0</td>\n",
       "      <td>1.191857</td>\n",
       "      <td>0.266151</td>\n",
       "      <td>0.166480</td>\n",
       "      <td>0.448154</td>\n",
       "      <td>0.060018</td>\n",
       "      <td>-0.082361</td>\n",
       "      <td>-0.078803</td>\n",
       "      <td>0.085102</td>\n",
       "      <td>-0.255425</td>\n",
       "      <td>...</td>\n",
       "      <td>-0.225775</td>\n",
       "      <td>-0.638672</td>\n",
       "      <td>0.101288</td>\n",
       "      <td>-0.339846</td>\n",
       "      <td>0.167170</td>\n",
       "      <td>0.125895</td>\n",
       "      <td>-0.008983</td>\n",
       "      <td>0.014724</td>\n",
       "      <td>2.69</td>\n",
       "      <td>0</td>\n",
       "    </tr>\n",
       "    <tr>\n",
       "      <th>2</th>\n",
       "      <td>1.0</td>\n",
       "      <td>-1.358354</td>\n",
       "      <td>-1.340163</td>\n",
       "      <td>1.773209</td>\n",
       "      <td>0.379780</td>\n",
       "      <td>-0.503198</td>\n",
       "      <td>1.800499</td>\n",
       "      <td>0.791461</td>\n",
       "      <td>0.247676</td>\n",
       "      <td>-1.514654</td>\n",
       "      <td>...</td>\n",
       "      <td>0.247998</td>\n",
       "      <td>0.771679</td>\n",
       "      <td>0.909412</td>\n",
       "      <td>-0.689281</td>\n",
       "      <td>-0.327642</td>\n",
       "      <td>-0.139097</td>\n",
       "      <td>-0.055353</td>\n",
       "      <td>-0.059752</td>\n",
       "      <td>378.66</td>\n",
       "      <td>0</td>\n",
       "    </tr>\n",
       "    <tr>\n",
       "      <th>3</th>\n",
       "      <td>1.0</td>\n",
       "      <td>-0.966272</td>\n",
       "      <td>-0.185226</td>\n",
       "      <td>1.792993</td>\n",
       "      <td>-0.863291</td>\n",
       "      <td>-0.010309</td>\n",
       "      <td>1.247203</td>\n",
       "      <td>0.237609</td>\n",
       "      <td>0.377436</td>\n",
       "      <td>-1.387024</td>\n",
       "      <td>...</td>\n",
       "      <td>-0.108300</td>\n",
       "      <td>0.005274</td>\n",
       "      <td>-0.190321</td>\n",
       "      <td>-1.175575</td>\n",
       "      <td>0.647376</td>\n",
       "      <td>-0.221929</td>\n",
       "      <td>0.062723</td>\n",
       "      <td>0.061458</td>\n",
       "      <td>123.50</td>\n",
       "      <td>0</td>\n",
       "    </tr>\n",
       "    <tr>\n",
       "      <th>4</th>\n",
       "      <td>2.0</td>\n",
       "      <td>-1.158233</td>\n",
       "      <td>0.877737</td>\n",
       "      <td>1.548718</td>\n",
       "      <td>0.403034</td>\n",
       "      <td>-0.407193</td>\n",
       "      <td>0.095921</td>\n",
       "      <td>0.592941</td>\n",
       "      <td>-0.270533</td>\n",
       "      <td>0.817739</td>\n",
       "      <td>...</td>\n",
       "      <td>-0.009431</td>\n",
       "      <td>0.798278</td>\n",
       "      <td>-0.137458</td>\n",
       "      <td>0.141267</td>\n",
       "      <td>-0.206010</td>\n",
       "      <td>0.502292</td>\n",
       "      <td>0.219422</td>\n",
       "      <td>0.215153</td>\n",
       "      <td>69.99</td>\n",
       "      <td>0</td>\n",
       "    </tr>\n",
       "  </tbody>\n",
       "</table>\n",
       "<p>5 rows × 31 columns</p>\n",
       "</div>"
      ],
      "text/plain": [
       "   Time        V1        V2        V3        V4        V5        V6        V7  \\\n",
       "0   0.0 -1.359807 -0.072781  2.536347  1.378155 -0.338321  0.462388  0.239599   \n",
       "1   0.0  1.191857  0.266151  0.166480  0.448154  0.060018 -0.082361 -0.078803   \n",
       "2   1.0 -1.358354 -1.340163  1.773209  0.379780 -0.503198  1.800499  0.791461   \n",
       "3   1.0 -0.966272 -0.185226  1.792993 -0.863291 -0.010309  1.247203  0.237609   \n",
       "4   2.0 -1.158233  0.877737  1.548718  0.403034 -0.407193  0.095921  0.592941   \n",
       "\n",
       "         V8        V9  ...       V21       V22       V23       V24       V25  \\\n",
       "0  0.098698  0.363787  ... -0.018307  0.277838 -0.110474  0.066928  0.128539   \n",
       "1  0.085102 -0.255425  ... -0.225775 -0.638672  0.101288 -0.339846  0.167170   \n",
       "2  0.247676 -1.514654  ...  0.247998  0.771679  0.909412 -0.689281 -0.327642   \n",
       "3  0.377436 -1.387024  ... -0.108300  0.005274 -0.190321 -1.175575  0.647376   \n",
       "4 -0.270533  0.817739  ... -0.009431  0.798278 -0.137458  0.141267 -0.206010   \n",
       "\n",
       "        V26       V27       V28  Amount  Class  \n",
       "0 -0.189115  0.133558 -0.021053  149.62      0  \n",
       "1  0.125895 -0.008983  0.014724    2.69      0  \n",
       "2 -0.139097 -0.055353 -0.059752  378.66      0  \n",
       "3 -0.221929  0.062723  0.061458  123.50      0  \n",
       "4  0.502292  0.219422  0.215153   69.99      0  \n",
       "\n",
       "[5 rows x 31 columns]"
      ]
     },
     "execution_count": 4,
     "metadata": {},
     "output_type": "execute_result"
    }
   ],
   "source": [
    "df.head()"
   ]
  },
  {
   "cell_type": "code",
   "execution_count": 5,
   "id": "17d385f5-f131-4bcb-b95a-fa97491fea3c",
   "metadata": {},
   "outputs": [
    {
     "name": "stdout",
     "output_type": "stream",
     "text": [
      "<class 'pandas.core.frame.DataFrame'>\n",
      "RangeIndex: 284807 entries, 0 to 284806\n",
      "Data columns (total 31 columns):\n",
      " #   Column  Non-Null Count   Dtype  \n",
      "---  ------  --------------   -----  \n",
      " 0   Time    284807 non-null  float64\n",
      " 1   V1      284807 non-null  float64\n",
      " 2   V2      284807 non-null  float64\n",
      " 3   V3      284807 non-null  float64\n",
      " 4   V4      284807 non-null  float64\n",
      " 5   V5      284807 non-null  float64\n",
      " 6   V6      284807 non-null  float64\n",
      " 7   V7      284807 non-null  float64\n",
      " 8   V8      284807 non-null  float64\n",
      " 9   V9      284807 non-null  float64\n",
      " 10  V10     284807 non-null  float64\n",
      " 11  V11     284807 non-null  float64\n",
      " 12  V12     284807 non-null  float64\n",
      " 13  V13     284807 non-null  float64\n",
      " 14  V14     284807 non-null  float64\n",
      " 15  V15     284807 non-null  float64\n",
      " 16  V16     284807 non-null  float64\n",
      " 17  V17     284807 non-null  float64\n",
      " 18  V18     284807 non-null  float64\n",
      " 19  V19     284807 non-null  float64\n",
      " 20  V20     284807 non-null  float64\n",
      " 21  V21     284807 non-null  float64\n",
      " 22  V22     284807 non-null  float64\n",
      " 23  V23     284807 non-null  float64\n",
      " 24  V24     284807 non-null  float64\n",
      " 25  V25     284807 non-null  float64\n",
      " 26  V26     284807 non-null  float64\n",
      " 27  V27     284807 non-null  float64\n",
      " 28  V28     284807 non-null  float64\n",
      " 29  Amount  284807 non-null  float64\n",
      " 30  Class   284807 non-null  int64  \n",
      "dtypes: float64(30), int64(1)\n",
      "memory usage: 67.4 MB\n"
     ]
    }
   ],
   "source": [
    "df.info()"
   ]
  },
  {
   "cell_type": "code",
   "execution_count": 6,
   "id": "3875a57c-d64f-43cd-bdb6-cb04356ac8a8",
   "metadata": {},
   "outputs": [
    {
     "data": {
      "text/plain": [
       "(284807, 31)"
      ]
     },
     "execution_count": 6,
     "metadata": {},
     "output_type": "execute_result"
    }
   ],
   "source": [
    "df.shape"
   ]
  },
  {
   "cell_type": "code",
   "execution_count": 7,
   "id": "fab83a13-e9d9-42d8-96bc-ce6f0969c3b6",
   "metadata": {},
   "outputs": [
    {
     "data": {
      "text/plain": [
       "Time      0\n",
       "V1        0\n",
       "V2        0\n",
       "V3        0\n",
       "V4        0\n",
       "V5        0\n",
       "V6        0\n",
       "V7        0\n",
       "V8        0\n",
       "V9        0\n",
       "V10       0\n",
       "V11       0\n",
       "V12       0\n",
       "V13       0\n",
       "V14       0\n",
       "V15       0\n",
       "V16       0\n",
       "V17       0\n",
       "V18       0\n",
       "V19       0\n",
       "V20       0\n",
       "V21       0\n",
       "V22       0\n",
       "V23       0\n",
       "V24       0\n",
       "V25       0\n",
       "V26       0\n",
       "V27       0\n",
       "V28       0\n",
       "Amount    0\n",
       "Class     0\n",
       "dtype: int64"
      ]
     },
     "execution_count": 7,
     "metadata": {},
     "output_type": "execute_result"
    }
   ],
   "source": [
    "df.isna().sum()"
   ]
  },
  {
   "cell_type": "code",
   "execution_count": 12,
   "id": "8f7e3464-4a02-4e19-b4a4-d14d8430f67b",
   "metadata": {},
   "outputs": [
    {
     "data": {
      "text/plain": [
       "Class\n",
       "0    284315\n",
       "1       492\n",
       "Name: count, dtype: int64"
      ]
     },
     "execution_count": 12,
     "metadata": {},
     "output_type": "execute_result"
    }
   ],
   "source": [
    "df['Class'].value_counts()"
   ]
  },
  {
   "cell_type": "code",
   "execution_count": 14,
   "id": "875eb0ac-9aa1-4fc5-8670-30908cfb32e5",
   "metadata": {},
   "outputs": [],
   "source": [
    "legit = df[df.Class==0]\n",
    "fraud = df[df.Class==1]"
   ]
  },
  {
   "cell_type": "code",
   "execution_count": 15,
   "id": "cd145e0c-0abc-442b-a46e-c80162cbc073",
   "metadata": {},
   "outputs": [
    {
     "name": "stdout",
     "output_type": "stream",
     "text": [
      "(284315, 31)\n",
      "(492, 31)\n"
     ]
    }
   ],
   "source": [
    "print(legit.shape)\n",
    "print(fraud.shape)"
   ]
  },
  {
   "cell_type": "code",
   "execution_count": 19,
   "id": "9cd62615-8bce-4356-b7c1-41d9dc1db0e5",
   "metadata": {},
   "outputs": [
    {
     "data": {
      "text/plain": [
       "count    284315.000000\n",
       "mean         88.291022\n",
       "std         250.105092\n",
       "min           0.000000\n",
       "25%           5.650000\n",
       "50%          22.000000\n",
       "75%          77.050000\n",
       "max       25691.160000\n",
       "Name: Amount, dtype: float64"
      ]
     },
     "execution_count": 19,
     "metadata": {},
     "output_type": "execute_result"
    }
   ],
   "source": [
    "legit.Amount.describe()"
   ]
  },
  {
   "cell_type": "code",
   "execution_count": 18,
   "id": "c110cd03-97f0-4e48-a495-f0f879b5d893",
   "metadata": {},
   "outputs": [
    {
     "data": {
      "text/plain": [
       "count     492.000000\n",
       "mean      122.211321\n",
       "std       256.683288\n",
       "min         0.000000\n",
       "25%         1.000000\n",
       "50%         9.250000\n",
       "75%       105.890000\n",
       "max      2125.870000\n",
       "Name: Amount, dtype: float64"
      ]
     },
     "execution_count": 18,
     "metadata": {},
     "output_type": "execute_result"
    }
   ],
   "source": [
    "fraud.Amount.describe()"
   ]
  },
  {
   "cell_type": "code",
   "execution_count": 20,
   "id": "18966e8e-963e-4a00-98e8-8eb4ef246f48",
   "metadata": {},
   "outputs": [
    {
     "data": {
      "text/html": [
       "<div>\n",
       "<style scoped>\n",
       "    .dataframe tbody tr th:only-of-type {\n",
       "        vertical-align: middle;\n",
       "    }\n",
       "\n",
       "    .dataframe tbody tr th {\n",
       "        vertical-align: top;\n",
       "    }\n",
       "\n",
       "    .dataframe thead th {\n",
       "        text-align: right;\n",
       "    }\n",
       "</style>\n",
       "<table border=\"1\" class=\"dataframe\">\n",
       "  <thead>\n",
       "    <tr style=\"text-align: right;\">\n",
       "      <th></th>\n",
       "      <th>Time</th>\n",
       "      <th>V1</th>\n",
       "      <th>V2</th>\n",
       "      <th>V3</th>\n",
       "      <th>V4</th>\n",
       "      <th>V5</th>\n",
       "      <th>V6</th>\n",
       "      <th>V7</th>\n",
       "      <th>V8</th>\n",
       "      <th>V9</th>\n",
       "      <th>...</th>\n",
       "      <th>V20</th>\n",
       "      <th>V21</th>\n",
       "      <th>V22</th>\n",
       "      <th>V23</th>\n",
       "      <th>V24</th>\n",
       "      <th>V25</th>\n",
       "      <th>V26</th>\n",
       "      <th>V27</th>\n",
       "      <th>V28</th>\n",
       "      <th>Amount</th>\n",
       "    </tr>\n",
       "    <tr>\n",
       "      <th>Class</th>\n",
       "      <th></th>\n",
       "      <th></th>\n",
       "      <th></th>\n",
       "      <th></th>\n",
       "      <th></th>\n",
       "      <th></th>\n",
       "      <th></th>\n",
       "      <th></th>\n",
       "      <th></th>\n",
       "      <th></th>\n",
       "      <th></th>\n",
       "      <th></th>\n",
       "      <th></th>\n",
       "      <th></th>\n",
       "      <th></th>\n",
       "      <th></th>\n",
       "      <th></th>\n",
       "      <th></th>\n",
       "      <th></th>\n",
       "      <th></th>\n",
       "      <th></th>\n",
       "    </tr>\n",
       "  </thead>\n",
       "  <tbody>\n",
       "    <tr>\n",
       "      <th>0</th>\n",
       "      <td>94838.202258</td>\n",
       "      <td>0.008258</td>\n",
       "      <td>-0.006271</td>\n",
       "      <td>0.012171</td>\n",
       "      <td>-0.007860</td>\n",
       "      <td>0.005453</td>\n",
       "      <td>0.002419</td>\n",
       "      <td>0.009637</td>\n",
       "      <td>-0.000987</td>\n",
       "      <td>0.004467</td>\n",
       "      <td>...</td>\n",
       "      <td>-0.000644</td>\n",
       "      <td>-0.001235</td>\n",
       "      <td>-0.000024</td>\n",
       "      <td>0.000070</td>\n",
       "      <td>0.000182</td>\n",
       "      <td>-0.000072</td>\n",
       "      <td>-0.000089</td>\n",
       "      <td>-0.000295</td>\n",
       "      <td>-0.000131</td>\n",
       "      <td>88.291022</td>\n",
       "    </tr>\n",
       "    <tr>\n",
       "      <th>1</th>\n",
       "      <td>80746.806911</td>\n",
       "      <td>-4.771948</td>\n",
       "      <td>3.623778</td>\n",
       "      <td>-7.033281</td>\n",
       "      <td>4.542029</td>\n",
       "      <td>-3.151225</td>\n",
       "      <td>-1.397737</td>\n",
       "      <td>-5.568731</td>\n",
       "      <td>0.570636</td>\n",
       "      <td>-2.581123</td>\n",
       "      <td>...</td>\n",
       "      <td>0.372319</td>\n",
       "      <td>0.713588</td>\n",
       "      <td>0.014049</td>\n",
       "      <td>-0.040308</td>\n",
       "      <td>-0.105130</td>\n",
       "      <td>0.041449</td>\n",
       "      <td>0.051648</td>\n",
       "      <td>0.170575</td>\n",
       "      <td>0.075667</td>\n",
       "      <td>122.211321</td>\n",
       "    </tr>\n",
       "  </tbody>\n",
       "</table>\n",
       "<p>2 rows × 30 columns</p>\n",
       "</div>"
      ],
      "text/plain": [
       "               Time        V1        V2        V3        V4        V5  \\\n",
       "Class                                                                   \n",
       "0      94838.202258  0.008258 -0.006271  0.012171 -0.007860  0.005453   \n",
       "1      80746.806911 -4.771948  3.623778 -7.033281  4.542029 -3.151225   \n",
       "\n",
       "             V6        V7        V8        V9  ...       V20       V21  \\\n",
       "Class                                          ...                       \n",
       "0      0.002419  0.009637 -0.000987  0.004467  ... -0.000644 -0.001235   \n",
       "1     -1.397737 -5.568731  0.570636 -2.581123  ...  0.372319  0.713588   \n",
       "\n",
       "            V22       V23       V24       V25       V26       V27       V28  \\\n",
       "Class                                                                         \n",
       "0     -0.000024  0.000070  0.000182 -0.000072 -0.000089 -0.000295 -0.000131   \n",
       "1      0.014049 -0.040308 -0.105130  0.041449  0.051648  0.170575  0.075667   \n",
       "\n",
       "           Amount  \n",
       "Class              \n",
       "0       88.291022  \n",
       "1      122.211321  \n",
       "\n",
       "[2 rows x 30 columns]"
      ]
     },
     "execution_count": 20,
     "metadata": {},
     "output_type": "execute_result"
    }
   ],
   "source": [
    "df.groupby('Class').mean()"
   ]
  },
  {
   "cell_type": "code",
   "execution_count": 21,
   "id": "8fcdfe94-cac7-4bcb-aee2-d621b23d3f37",
   "metadata": {},
   "outputs": [],
   "source": [
    "legit_sample=legit.sample(n=492)"
   ]
  },
  {
   "cell_type": "code",
   "execution_count": 22,
   "id": "3732c735-5f67-4781-9b00-d7705be303e3",
   "metadata": {},
   "outputs": [
    {
     "data": {
      "text/html": [
       "<div>\n",
       "<style scoped>\n",
       "    .dataframe tbody tr th:only-of-type {\n",
       "        vertical-align: middle;\n",
       "    }\n",
       "\n",
       "    .dataframe tbody tr th {\n",
       "        vertical-align: top;\n",
       "    }\n",
       "\n",
       "    .dataframe thead th {\n",
       "        text-align: right;\n",
       "    }\n",
       "</style>\n",
       "<table border=\"1\" class=\"dataframe\">\n",
       "  <thead>\n",
       "    <tr style=\"text-align: right;\">\n",
       "      <th></th>\n",
       "      <th>Time</th>\n",
       "      <th>V1</th>\n",
       "      <th>V2</th>\n",
       "      <th>V3</th>\n",
       "      <th>V4</th>\n",
       "      <th>V5</th>\n",
       "      <th>V6</th>\n",
       "      <th>V7</th>\n",
       "      <th>V8</th>\n",
       "      <th>V9</th>\n",
       "      <th>...</th>\n",
       "      <th>V21</th>\n",
       "      <th>V22</th>\n",
       "      <th>V23</th>\n",
       "      <th>V24</th>\n",
       "      <th>V25</th>\n",
       "      <th>V26</th>\n",
       "      <th>V27</th>\n",
       "      <th>V28</th>\n",
       "      <th>Amount</th>\n",
       "      <th>Class</th>\n",
       "    </tr>\n",
       "  </thead>\n",
       "  <tbody>\n",
       "    <tr>\n",
       "      <th>84063</th>\n",
       "      <td>60145.0</td>\n",
       "      <td>1.433855</td>\n",
       "      <td>-1.008413</td>\n",
       "      <td>0.352931</td>\n",
       "      <td>-1.426187</td>\n",
       "      <td>-1.387679</td>\n",
       "      <td>-0.706539</td>\n",
       "      <td>-0.874417</td>\n",
       "      <td>-0.186464</td>\n",
       "      <td>-2.279269</td>\n",
       "      <td>...</td>\n",
       "      <td>-0.027174</td>\n",
       "      <td>0.280383</td>\n",
       "      <td>-0.092728</td>\n",
       "      <td>0.364779</td>\n",
       "      <td>0.503779</td>\n",
       "      <td>-0.107072</td>\n",
       "      <td>0.022569</td>\n",
       "      <td>0.013689</td>\n",
       "      <td>40.00</td>\n",
       "      <td>0</td>\n",
       "    </tr>\n",
       "    <tr>\n",
       "      <th>220199</th>\n",
       "      <td>142065.0</td>\n",
       "      <td>1.144031</td>\n",
       "      <td>-1.975159</td>\n",
       "      <td>-1.109282</td>\n",
       "      <td>0.878443</td>\n",
       "      <td>-0.927697</td>\n",
       "      <td>0.080713</td>\n",
       "      <td>0.088981</td>\n",
       "      <td>-0.122503</td>\n",
       "      <td>-0.731668</td>\n",
       "      <td>...</td>\n",
       "      <td>-0.494069</td>\n",
       "      <td>-1.909117</td>\n",
       "      <td>0.090502</td>\n",
       "      <td>-0.507792</td>\n",
       "      <td>-0.672620</td>\n",
       "      <td>-1.204349</td>\n",
       "      <td>-0.024344</td>\n",
       "      <td>0.044045</td>\n",
       "      <td>476.44</td>\n",
       "      <td>0</td>\n",
       "    </tr>\n",
       "    <tr>\n",
       "      <th>193911</th>\n",
       "      <td>130349.0</td>\n",
       "      <td>-0.969895</td>\n",
       "      <td>0.772706</td>\n",
       "      <td>1.784816</td>\n",
       "      <td>-0.861017</td>\n",
       "      <td>0.220263</td>\n",
       "      <td>0.262741</td>\n",
       "      <td>0.498391</td>\n",
       "      <td>-0.001125</td>\n",
       "      <td>0.082126</td>\n",
       "      <td>...</td>\n",
       "      <td>0.200408</td>\n",
       "      <td>0.646511</td>\n",
       "      <td>-0.540554</td>\n",
       "      <td>0.677795</td>\n",
       "      <td>0.629573</td>\n",
       "      <td>0.685379</td>\n",
       "      <td>-0.225468</td>\n",
       "      <td>0.033969</td>\n",
       "      <td>35.45</td>\n",
       "      <td>0</td>\n",
       "    </tr>\n",
       "    <tr>\n",
       "      <th>99261</th>\n",
       "      <td>67041.0</td>\n",
       "      <td>1.272553</td>\n",
       "      <td>-0.043732</td>\n",
       "      <td>0.751665</td>\n",
       "      <td>0.106887</td>\n",
       "      <td>-0.865935</td>\n",
       "      <td>-0.879713</td>\n",
       "      <td>-0.345176</td>\n",
       "      <td>-0.133345</td>\n",
       "      <td>0.411543</td>\n",
       "      <td>...</td>\n",
       "      <td>0.078086</td>\n",
       "      <td>0.285361</td>\n",
       "      <td>-0.016845</td>\n",
       "      <td>0.482964</td>\n",
       "      <td>0.244970</td>\n",
       "      <td>1.069933</td>\n",
       "      <td>-0.058121</td>\n",
       "      <td>0.010334</td>\n",
       "      <td>1.00</td>\n",
       "      <td>0</td>\n",
       "    </tr>\n",
       "    <tr>\n",
       "      <th>74068</th>\n",
       "      <td>55411.0</td>\n",
       "      <td>-1.061270</td>\n",
       "      <td>0.215676</td>\n",
       "      <td>1.859013</td>\n",
       "      <td>-2.719207</td>\n",
       "      <td>0.487029</td>\n",
       "      <td>1.309667</td>\n",
       "      <td>0.148977</td>\n",
       "      <td>0.638827</td>\n",
       "      <td>0.825044</td>\n",
       "      <td>...</td>\n",
       "      <td>-0.113192</td>\n",
       "      <td>-0.094372</td>\n",
       "      <td>-0.086288</td>\n",
       "      <td>-1.006966</td>\n",
       "      <td>0.011695</td>\n",
       "      <td>-0.270817</td>\n",
       "      <td>-0.023922</td>\n",
       "      <td>0.035907</td>\n",
       "      <td>1.14</td>\n",
       "      <td>0</td>\n",
       "    </tr>\n",
       "  </tbody>\n",
       "</table>\n",
       "<p>5 rows × 31 columns</p>\n",
       "</div>"
      ],
      "text/plain": [
       "            Time        V1        V2        V3        V4        V5        V6  \\\n",
       "84063    60145.0  1.433855 -1.008413  0.352931 -1.426187 -1.387679 -0.706539   \n",
       "220199  142065.0  1.144031 -1.975159 -1.109282  0.878443 -0.927697  0.080713   \n",
       "193911  130349.0 -0.969895  0.772706  1.784816 -0.861017  0.220263  0.262741   \n",
       "99261    67041.0  1.272553 -0.043732  0.751665  0.106887 -0.865935 -0.879713   \n",
       "74068    55411.0 -1.061270  0.215676  1.859013 -2.719207  0.487029  1.309667   \n",
       "\n",
       "              V7        V8        V9  ...       V21       V22       V23  \\\n",
       "84063  -0.874417 -0.186464 -2.279269  ... -0.027174  0.280383 -0.092728   \n",
       "220199  0.088981 -0.122503 -0.731668  ... -0.494069 -1.909117  0.090502   \n",
       "193911  0.498391 -0.001125  0.082126  ...  0.200408  0.646511 -0.540554   \n",
       "99261  -0.345176 -0.133345  0.411543  ...  0.078086  0.285361 -0.016845   \n",
       "74068   0.148977  0.638827  0.825044  ... -0.113192 -0.094372 -0.086288   \n",
       "\n",
       "             V24       V25       V26       V27       V28  Amount  Class  \n",
       "84063   0.364779  0.503779 -0.107072  0.022569  0.013689   40.00      0  \n",
       "220199 -0.507792 -0.672620 -1.204349 -0.024344  0.044045  476.44      0  \n",
       "193911  0.677795  0.629573  0.685379 -0.225468  0.033969   35.45      0  \n",
       "99261   0.482964  0.244970  1.069933 -0.058121  0.010334    1.00      0  \n",
       "74068  -1.006966  0.011695 -0.270817 -0.023922  0.035907    1.14      0  \n",
       "\n",
       "[5 rows x 31 columns]"
      ]
     },
     "execution_count": 22,
     "metadata": {},
     "output_type": "execute_result"
    }
   ],
   "source": [
    "legit_sample.head()"
   ]
  },
  {
   "cell_type": "code",
   "execution_count": 25,
   "id": "b4fc8f9b-d967-4a8e-8037-1dafd5a2ac56",
   "metadata": {},
   "outputs": [],
   "source": [
    "new_df=pd.concat([legit_sample,fraud],axis=0)"
   ]
  },
  {
   "cell_type": "code",
   "execution_count": 26,
   "id": "612a2538-3613-4992-9ac6-b6367d5a2adb",
   "metadata": {},
   "outputs": [
    {
     "data": {
      "text/html": [
       "<div>\n",
       "<style scoped>\n",
       "    .dataframe tbody tr th:only-of-type {\n",
       "        vertical-align: middle;\n",
       "    }\n",
       "\n",
       "    .dataframe tbody tr th {\n",
       "        vertical-align: top;\n",
       "    }\n",
       "\n",
       "    .dataframe thead th {\n",
       "        text-align: right;\n",
       "    }\n",
       "</style>\n",
       "<table border=\"1\" class=\"dataframe\">\n",
       "  <thead>\n",
       "    <tr style=\"text-align: right;\">\n",
       "      <th></th>\n",
       "      <th>Time</th>\n",
       "      <th>V1</th>\n",
       "      <th>V2</th>\n",
       "      <th>V3</th>\n",
       "      <th>V4</th>\n",
       "      <th>V5</th>\n",
       "      <th>V6</th>\n",
       "      <th>V7</th>\n",
       "      <th>V8</th>\n",
       "      <th>V9</th>\n",
       "      <th>...</th>\n",
       "      <th>V21</th>\n",
       "      <th>V22</th>\n",
       "      <th>V23</th>\n",
       "      <th>V24</th>\n",
       "      <th>V25</th>\n",
       "      <th>V26</th>\n",
       "      <th>V27</th>\n",
       "      <th>V28</th>\n",
       "      <th>Amount</th>\n",
       "      <th>Class</th>\n",
       "    </tr>\n",
       "  </thead>\n",
       "  <tbody>\n",
       "    <tr>\n",
       "      <th>84063</th>\n",
       "      <td>60145.0</td>\n",
       "      <td>1.433855</td>\n",
       "      <td>-1.008413</td>\n",
       "      <td>0.352931</td>\n",
       "      <td>-1.426187</td>\n",
       "      <td>-1.387679</td>\n",
       "      <td>-0.706539</td>\n",
       "      <td>-0.874417</td>\n",
       "      <td>-0.186464</td>\n",
       "      <td>-2.279269</td>\n",
       "      <td>...</td>\n",
       "      <td>-0.027174</td>\n",
       "      <td>0.280383</td>\n",
       "      <td>-0.092728</td>\n",
       "      <td>0.364779</td>\n",
       "      <td>0.503779</td>\n",
       "      <td>-0.107072</td>\n",
       "      <td>0.022569</td>\n",
       "      <td>0.013689</td>\n",
       "      <td>40.00</td>\n",
       "      <td>0</td>\n",
       "    </tr>\n",
       "    <tr>\n",
       "      <th>220199</th>\n",
       "      <td>142065.0</td>\n",
       "      <td>1.144031</td>\n",
       "      <td>-1.975159</td>\n",
       "      <td>-1.109282</td>\n",
       "      <td>0.878443</td>\n",
       "      <td>-0.927697</td>\n",
       "      <td>0.080713</td>\n",
       "      <td>0.088981</td>\n",
       "      <td>-0.122503</td>\n",
       "      <td>-0.731668</td>\n",
       "      <td>...</td>\n",
       "      <td>-0.494069</td>\n",
       "      <td>-1.909117</td>\n",
       "      <td>0.090502</td>\n",
       "      <td>-0.507792</td>\n",
       "      <td>-0.672620</td>\n",
       "      <td>-1.204349</td>\n",
       "      <td>-0.024344</td>\n",
       "      <td>0.044045</td>\n",
       "      <td>476.44</td>\n",
       "      <td>0</td>\n",
       "    </tr>\n",
       "    <tr>\n",
       "      <th>193911</th>\n",
       "      <td>130349.0</td>\n",
       "      <td>-0.969895</td>\n",
       "      <td>0.772706</td>\n",
       "      <td>1.784816</td>\n",
       "      <td>-0.861017</td>\n",
       "      <td>0.220263</td>\n",
       "      <td>0.262741</td>\n",
       "      <td>0.498391</td>\n",
       "      <td>-0.001125</td>\n",
       "      <td>0.082126</td>\n",
       "      <td>...</td>\n",
       "      <td>0.200408</td>\n",
       "      <td>0.646511</td>\n",
       "      <td>-0.540554</td>\n",
       "      <td>0.677795</td>\n",
       "      <td>0.629573</td>\n",
       "      <td>0.685379</td>\n",
       "      <td>-0.225468</td>\n",
       "      <td>0.033969</td>\n",
       "      <td>35.45</td>\n",
       "      <td>0</td>\n",
       "    </tr>\n",
       "    <tr>\n",
       "      <th>99261</th>\n",
       "      <td>67041.0</td>\n",
       "      <td>1.272553</td>\n",
       "      <td>-0.043732</td>\n",
       "      <td>0.751665</td>\n",
       "      <td>0.106887</td>\n",
       "      <td>-0.865935</td>\n",
       "      <td>-0.879713</td>\n",
       "      <td>-0.345176</td>\n",
       "      <td>-0.133345</td>\n",
       "      <td>0.411543</td>\n",
       "      <td>...</td>\n",
       "      <td>0.078086</td>\n",
       "      <td>0.285361</td>\n",
       "      <td>-0.016845</td>\n",
       "      <td>0.482964</td>\n",
       "      <td>0.244970</td>\n",
       "      <td>1.069933</td>\n",
       "      <td>-0.058121</td>\n",
       "      <td>0.010334</td>\n",
       "      <td>1.00</td>\n",
       "      <td>0</td>\n",
       "    </tr>\n",
       "    <tr>\n",
       "      <th>74068</th>\n",
       "      <td>55411.0</td>\n",
       "      <td>-1.061270</td>\n",
       "      <td>0.215676</td>\n",
       "      <td>1.859013</td>\n",
       "      <td>-2.719207</td>\n",
       "      <td>0.487029</td>\n",
       "      <td>1.309667</td>\n",
       "      <td>0.148977</td>\n",
       "      <td>0.638827</td>\n",
       "      <td>0.825044</td>\n",
       "      <td>...</td>\n",
       "      <td>-0.113192</td>\n",
       "      <td>-0.094372</td>\n",
       "      <td>-0.086288</td>\n",
       "      <td>-1.006966</td>\n",
       "      <td>0.011695</td>\n",
       "      <td>-0.270817</td>\n",
       "      <td>-0.023922</td>\n",
       "      <td>0.035907</td>\n",
       "      <td>1.14</td>\n",
       "      <td>0</td>\n",
       "    </tr>\n",
       "  </tbody>\n",
       "</table>\n",
       "<p>5 rows × 31 columns</p>\n",
       "</div>"
      ],
      "text/plain": [
       "            Time        V1        V2        V3        V4        V5        V6  \\\n",
       "84063    60145.0  1.433855 -1.008413  0.352931 -1.426187 -1.387679 -0.706539   \n",
       "220199  142065.0  1.144031 -1.975159 -1.109282  0.878443 -0.927697  0.080713   \n",
       "193911  130349.0 -0.969895  0.772706  1.784816 -0.861017  0.220263  0.262741   \n",
       "99261    67041.0  1.272553 -0.043732  0.751665  0.106887 -0.865935 -0.879713   \n",
       "74068    55411.0 -1.061270  0.215676  1.859013 -2.719207  0.487029  1.309667   \n",
       "\n",
       "              V7        V8        V9  ...       V21       V22       V23  \\\n",
       "84063  -0.874417 -0.186464 -2.279269  ... -0.027174  0.280383 -0.092728   \n",
       "220199  0.088981 -0.122503 -0.731668  ... -0.494069 -1.909117  0.090502   \n",
       "193911  0.498391 -0.001125  0.082126  ...  0.200408  0.646511 -0.540554   \n",
       "99261  -0.345176 -0.133345  0.411543  ...  0.078086  0.285361 -0.016845   \n",
       "74068   0.148977  0.638827  0.825044  ... -0.113192 -0.094372 -0.086288   \n",
       "\n",
       "             V24       V25       V26       V27       V28  Amount  Class  \n",
       "84063   0.364779  0.503779 -0.107072  0.022569  0.013689   40.00      0  \n",
       "220199 -0.507792 -0.672620 -1.204349 -0.024344  0.044045  476.44      0  \n",
       "193911  0.677795  0.629573  0.685379 -0.225468  0.033969   35.45      0  \n",
       "99261   0.482964  0.244970  1.069933 -0.058121  0.010334    1.00      0  \n",
       "74068  -1.006966  0.011695 -0.270817 -0.023922  0.035907    1.14      0  \n",
       "\n",
       "[5 rows x 31 columns]"
      ]
     },
     "execution_count": 26,
     "metadata": {},
     "output_type": "execute_result"
    }
   ],
   "source": [
    "new_df.head()"
   ]
  },
  {
   "cell_type": "code",
   "execution_count": 28,
   "id": "70cdb112-f35a-473d-992b-38cf9b5bdf83",
   "metadata": {},
   "outputs": [
    {
     "data": {
      "text/plain": [
       "Class\n",
       "0    492\n",
       "1    492\n",
       "Name: count, dtype: int64"
      ]
     },
     "execution_count": 28,
     "metadata": {},
     "output_type": "execute_result"
    }
   ],
   "source": [
    "new_df['Class'].value_counts()"
   ]
  },
  {
   "cell_type": "code",
   "execution_count": 29,
   "id": "439fa7d7-237e-46d9-a717-dfe3448e7dfd",
   "metadata": {},
   "outputs": [
    {
     "data": {
      "text/html": [
       "<div>\n",
       "<style scoped>\n",
       "    .dataframe tbody tr th:only-of-type {\n",
       "        vertical-align: middle;\n",
       "    }\n",
       "\n",
       "    .dataframe tbody tr th {\n",
       "        vertical-align: top;\n",
       "    }\n",
       "\n",
       "    .dataframe thead th {\n",
       "        text-align: right;\n",
       "    }\n",
       "</style>\n",
       "<table border=\"1\" class=\"dataframe\">\n",
       "  <thead>\n",
       "    <tr style=\"text-align: right;\">\n",
       "      <th></th>\n",
       "      <th>Time</th>\n",
       "      <th>V1</th>\n",
       "      <th>V2</th>\n",
       "      <th>V3</th>\n",
       "      <th>V4</th>\n",
       "      <th>V5</th>\n",
       "      <th>V6</th>\n",
       "      <th>V7</th>\n",
       "      <th>V8</th>\n",
       "      <th>V9</th>\n",
       "      <th>...</th>\n",
       "      <th>V20</th>\n",
       "      <th>V21</th>\n",
       "      <th>V22</th>\n",
       "      <th>V23</th>\n",
       "      <th>V24</th>\n",
       "      <th>V25</th>\n",
       "      <th>V26</th>\n",
       "      <th>V27</th>\n",
       "      <th>V28</th>\n",
       "      <th>Amount</th>\n",
       "    </tr>\n",
       "    <tr>\n",
       "      <th>Class</th>\n",
       "      <th></th>\n",
       "      <th></th>\n",
       "      <th></th>\n",
       "      <th></th>\n",
       "      <th></th>\n",
       "      <th></th>\n",
       "      <th></th>\n",
       "      <th></th>\n",
       "      <th></th>\n",
       "      <th></th>\n",
       "      <th></th>\n",
       "      <th></th>\n",
       "      <th></th>\n",
       "      <th></th>\n",
       "      <th></th>\n",
       "      <th></th>\n",
       "      <th></th>\n",
       "      <th></th>\n",
       "      <th></th>\n",
       "      <th></th>\n",
       "      <th></th>\n",
       "    </tr>\n",
       "  </thead>\n",
       "  <tbody>\n",
       "    <tr>\n",
       "      <th>0</th>\n",
       "      <td>95363.321138</td>\n",
       "      <td>0.091948</td>\n",
       "      <td>0.000565</td>\n",
       "      <td>-0.026510</td>\n",
       "      <td>-0.101195</td>\n",
       "      <td>-0.004812</td>\n",
       "      <td>-0.068315</td>\n",
       "      <td>0.043177</td>\n",
       "      <td>-0.026149</td>\n",
       "      <td>-0.019130</td>\n",
       "      <td>...</td>\n",
       "      <td>0.002844</td>\n",
       "      <td>-0.036948</td>\n",
       "      <td>-0.044890</td>\n",
       "      <td>-0.045341</td>\n",
       "      <td>0.025526</td>\n",
       "      <td>0.006837</td>\n",
       "      <td>0.004573</td>\n",
       "      <td>0.008944</td>\n",
       "      <td>0.023279</td>\n",
       "      <td>91.053496</td>\n",
       "    </tr>\n",
       "    <tr>\n",
       "      <th>1</th>\n",
       "      <td>80746.806911</td>\n",
       "      <td>-4.771948</td>\n",
       "      <td>3.623778</td>\n",
       "      <td>-7.033281</td>\n",
       "      <td>4.542029</td>\n",
       "      <td>-3.151225</td>\n",
       "      <td>-1.397737</td>\n",
       "      <td>-5.568731</td>\n",
       "      <td>0.570636</td>\n",
       "      <td>-2.581123</td>\n",
       "      <td>...</td>\n",
       "      <td>0.372319</td>\n",
       "      <td>0.713588</td>\n",
       "      <td>0.014049</td>\n",
       "      <td>-0.040308</td>\n",
       "      <td>-0.105130</td>\n",
       "      <td>0.041449</td>\n",
       "      <td>0.051648</td>\n",
       "      <td>0.170575</td>\n",
       "      <td>0.075667</td>\n",
       "      <td>122.211321</td>\n",
       "    </tr>\n",
       "  </tbody>\n",
       "</table>\n",
       "<p>2 rows × 30 columns</p>\n",
       "</div>"
      ],
      "text/plain": [
       "               Time        V1        V2        V3        V4        V5  \\\n",
       "Class                                                                   \n",
       "0      95363.321138  0.091948  0.000565 -0.026510 -0.101195 -0.004812   \n",
       "1      80746.806911 -4.771948  3.623778 -7.033281  4.542029 -3.151225   \n",
       "\n",
       "             V6        V7        V8        V9  ...       V20       V21  \\\n",
       "Class                                          ...                       \n",
       "0     -0.068315  0.043177 -0.026149 -0.019130  ...  0.002844 -0.036948   \n",
       "1     -1.397737 -5.568731  0.570636 -2.581123  ...  0.372319  0.713588   \n",
       "\n",
       "            V22       V23       V24       V25       V26       V27       V28  \\\n",
       "Class                                                                         \n",
       "0     -0.044890 -0.045341  0.025526  0.006837  0.004573  0.008944  0.023279   \n",
       "1      0.014049 -0.040308 -0.105130  0.041449  0.051648  0.170575  0.075667   \n",
       "\n",
       "           Amount  \n",
       "Class              \n",
       "0       91.053496  \n",
       "1      122.211321  \n",
       "\n",
       "[2 rows x 30 columns]"
      ]
     },
     "execution_count": 29,
     "metadata": {},
     "output_type": "execute_result"
    }
   ],
   "source": [
    "new_df.groupby('Class').mean()"
   ]
  },
  {
   "cell_type": "code",
   "execution_count": 31,
   "id": "5aa99f2f-09bf-4711-bada-6e554ebbee6b",
   "metadata": {},
   "outputs": [],
   "source": [
    "X=new_df.drop(columns='Class',axis=1)\n",
    "y=new_df['Class']"
   ]
  },
  {
   "cell_type": "code",
   "execution_count": 32,
   "id": "968dddec-1b92-48e1-aee4-b447d6885449",
   "metadata": {},
   "outputs": [
    {
     "data": {
      "text/plain": [
       "(984, 30)"
      ]
     },
     "execution_count": 32,
     "metadata": {},
     "output_type": "execute_result"
    }
   ],
   "source": [
    "X.shape"
   ]
  },
  {
   "cell_type": "code",
   "execution_count": 33,
   "id": "011445c4-82d9-486e-af75-5a87637ebe22",
   "metadata": {},
   "outputs": [
    {
     "data": {
      "text/plain": [
       "(984,)"
      ]
     },
     "execution_count": 33,
     "metadata": {},
     "output_type": "execute_result"
    }
   ],
   "source": [
    "y.shape"
   ]
  },
  {
   "cell_type": "code",
   "execution_count": 34,
   "id": "bb6beb8f-0d26-4d91-bbcd-418419468374",
   "metadata": {},
   "outputs": [],
   "source": [
    "from sklearn.model_selection import train_test_split\n"
   ]
  },
  {
   "cell_type": "code",
   "execution_count": 52,
   "id": "a90df0d6-2bae-4141-895d-7458226ed8cc",
   "metadata": {},
   "outputs": [],
   "source": [
    "X_train,X_test,y_train,y_test=train_test_split(X,y,test_size=0.2,random_state=2)"
   ]
  },
  {
   "cell_type": "code",
   "execution_count": 53,
   "id": "0ca05e22-8dcb-4d50-b6af-889abfae564b",
   "metadata": {},
   "outputs": [
    {
     "data": {
      "text/plain": [
       "(787, 30)"
      ]
     },
     "execution_count": 53,
     "metadata": {},
     "output_type": "execute_result"
    }
   ],
   "source": [
    "X_train.shape"
   ]
  },
  {
   "cell_type": "code",
   "execution_count": 54,
   "id": "25a30258-d080-4482-9498-3877ab9c8117",
   "metadata": {},
   "outputs": [
    {
     "data": {
      "text/plain": [
       "(787,)"
      ]
     },
     "execution_count": 54,
     "metadata": {},
     "output_type": "execute_result"
    }
   ],
   "source": [
    "y_train.shape"
   ]
  },
  {
   "cell_type": "code",
   "execution_count": 55,
   "id": "5414745b-2b3a-434a-974d-5a9161cc5bd9",
   "metadata": {},
   "outputs": [
    {
     "data": {
      "text/plain": [
       "(197, 30)"
      ]
     },
     "execution_count": 55,
     "metadata": {},
     "output_type": "execute_result"
    }
   ],
   "source": [
    "X_test.shape"
   ]
  },
  {
   "cell_type": "code",
   "execution_count": 56,
   "id": "45d76013-d538-4ed2-bb62-9b72b2a890e1",
   "metadata": {},
   "outputs": [],
   "source": [
    "from sklearn.linear_model import LogisticRegression\n",
    "from sklearn.neighbors import KNeighborsClassifier\n",
    "from sklearn.tree import DecisionTreeClassifier\n",
    "from sklearn.ensemble import RandomForestClassifier\n",
    "from sklearn.metrics import accuracy_score"
   ]
  },
  {
   "cell_type": "code",
   "execution_count": 57,
   "id": "e2f3b78b-0fc9-4a05-b2e6-41d12a881d09",
   "metadata": {},
   "outputs": [],
   "source": [
    "lr=LogisticRegression()\n",
    "knn=KNeighborsClassifier()\n",
    "dtree=DecisionTreeClassifier()\n",
    "rfc=RandomForestClassifier()"
   ]
  },
  {
   "cell_type": "code",
   "execution_count": 58,
   "id": "174f8d0d-a21f-44b1-880c-380b589734d2",
   "metadata": {},
   "outputs": [
    {
     "name": "stdout",
     "output_type": "stream",
     "text": [
      "0.949238578680203\n",
      "0.951715374841169\n"
     ]
    },
    {
     "name": "stderr",
     "output_type": "stream",
     "text": [
      "C:\\Users\\pf1a0\\Lib\\site-packages\\sklearn\\linear_model\\_logistic.py:469: ConvergenceWarning: lbfgs failed to converge (status=1):\n",
      "STOP: TOTAL NO. of ITERATIONS REACHED LIMIT.\n",
      "\n",
      "Increase the number of iterations (max_iter) or scale the data as shown in:\n",
      "    https://scikit-learn.org/stable/modules/preprocessing.html\n",
      "Please also refer to the documentation for alternative solver options:\n",
      "    https://scikit-learn.org/stable/modules/linear_model.html#logistic-regression\n",
      "  n_iter_i = _check_optimize_result(\n"
     ]
    }
   ],
   "source": [
    "lr.fit(X_train,y_train)\n",
    "p_lr=lr.predict(X_test)\n",
    "train_pred=lr.predict(X_train)\n",
    "print(accuracy_score(p_lr,y_test))\n",
    "print(accuracy_score(train_pred,y_train))"
   ]
  },
  {
   "cell_type": "code",
   "execution_count": 59,
   "id": "6820479d-1329-472d-be8c-cc52ce37b333",
   "metadata": {},
   "outputs": [
    {
     "name": "stdout",
     "output_type": "stream",
     "text": [
      "0.6192893401015228\n",
      "0.7623888182973316\n"
     ]
    }
   ],
   "source": [
    "knn.fit(X_train,y_train)\n",
    "p_knn=knn.predict(X_test)\n",
    "train_pre=knn.predict(X_train)\n",
    "print(accuracy_score(p_knn,y_test))\n",
    "print(accuracy_score(train_pre,y_train))"
   ]
  },
  {
   "cell_type": "code",
   "execution_count": 60,
   "id": "25cc789f-6c37-4839-80ad-0d5a672a0ca3",
   "metadata": {},
   "outputs": [
    {
     "name": "stdout",
     "output_type": "stream",
     "text": [
      "0.9289340101522843\n",
      "1.0\n"
     ]
    }
   ],
   "source": [
    "dtree.fit(X_train,y_train)\n",
    "p_dtree=dtree.predict(X_test)\n",
    "train_pr=dtree.predict(X_train)\n",
    "print(accuracy_score(p_dtree,y_test))\n",
    "print(accuracy_score(train_pr,y_train))"
   ]
  },
  {
   "cell_type": "code",
   "execution_count": 61,
   "id": "afb3165f-1011-41c5-8033-6c65a537e316",
   "metadata": {},
   "outputs": [
    {
     "name": "stdout",
     "output_type": "stream",
     "text": [
      "0.9441624365482234\n",
      "1.0\n"
     ]
    }
   ],
   "source": [
    "rfc.fit(X_train,y_train)\n",
    "p_rfc=rfc.predict(X_test)\n",
    "train_p=rfc.predict(X_train)\n",
    "print(accuracy_score(p_rfc,y_test))\n",
    "print(accuracy_score(train_p,y_train))"
   ]
  },
  {
   "cell_type": "code",
   "execution_count": null,
   "id": "7eaeebc0-c5d6-4ece-abfa-70e4c073460e",
   "metadata": {},
   "outputs": [],
   "source": []
  }
 ],
 "metadata": {
  "kernelspec": {
   "display_name": "Python 3 (ipykernel)",
   "language": "python",
   "name": "python3"
  },
  "language_info": {
   "codemirror_mode": {
    "name": "ipython",
    "version": 3
   },
   "file_extension": ".py",
   "mimetype": "text/x-python",
   "name": "python",
   "nbconvert_exporter": "python",
   "pygments_lexer": "ipython3",
   "version": "3.11.8"
  }
 },
 "nbformat": 4,
 "nbformat_minor": 5
}
